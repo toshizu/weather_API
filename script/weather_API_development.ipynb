{
 "cells": [
  {
   "cell_type": "markdown",
   "id": "3219c35a",
   "metadata": {},
   "source": [
    "# OpenWeatherMap API 開発"
   ]
  },
  {
   "cell_type": "code",
   "execution_count": 1,
   "id": "460cfc8c",
   "metadata": {},
   "outputs": [],
   "source": [
    "from dotenv import load_dotenv\n",
    "import os, requests, time\n",
    "from datetime import datetime\n",
    "from pathlib import Path\n",
    "import pandas as pd\n",
    "import matplotlib.pyplot as plt\n",
    "import matplotlib.font_manager as fm\n",
    "import japanize_matplotlib"
   ]
  },
  {
   "cell_type": "markdown",
   "id": "1d754e24",
   "metadata": {},
   "source": [
    "## API Keyを取得"
   ]
  },
  {
   "cell_type": "code",
   "execution_count": 2,
   "id": "19302e40",
   "metadata": {},
   "outputs": [],
   "source": [
    "# API Keyを.envファイルから取得\n",
    "env_path = Path(\"..\") / \".env\"\n",
    "load_dotenv(dotenv_path=env_path)\n",
    "\n",
    "api_key = os.getenv(\"OPENWEATHER_API_KEY\")"
   ]
  },
  {
   "cell_type": "markdown",
   "id": "5bf62163",
   "metadata": {},
   "source": [
    "## 天気データを取得するAPIのリクエストを実行"
   ]
  },
  {
   "cell_type": "code",
   "execution_count": 3,
   "id": "963b59d9",
   "metadata": {},
   "outputs": [],
   "source": [
    "# 都市名\n",
    "city = \"Tokyo\"\n",
    "\n",
    "# APIエンドポイントとパラメータ\n",
    "url = f\"https://api.openweathermap.org/data/2.5/weather?q={city}&appid={api_key}&units=metric&lang=ja\"\n",
    "\n",
    "# APIリクエストを送信\n",
    "response = requests.get(url)\n",
    "\n",
    "# JSON形式で結果を受け取る\n",
    "data = response.json()"
   ]
  },
  {
   "cell_type": "code",
   "execution_count": 4,
   "id": "4c0ec2db",
   "metadata": {},
   "outputs": [
    {
     "name": "stdout",
     "output_type": "stream",
     "text": [
      "{'base': 'stations',\n",
      " 'clouds': {'all': 75},\n",
      " 'cod': 200,\n",
      " 'coord': {'lat': 35.6895, 'lon': 139.6917},\n",
      " 'dt': 1748217107,\n",
      " 'id': 1850144,\n",
      " 'main': {'feels_like': 19.15,\n",
      "          'grnd_level': 1014,\n",
      "          'humidity': 42,\n",
      "          'pressure': 1016,\n",
      "          'sea_level': 1016,\n",
      "          'temp': 20,\n",
      "          'temp_max': 20.36,\n",
      "          'temp_min': 19.03},\n",
      " 'name': '東京都',\n",
      " 'sys': {'country': 'JP',\n",
      "         'id': 268395,\n",
      "         'sunrise': 1748201370,\n",
      "         'sunset': 1748252839,\n",
      "         'type': 2},\n",
      " 'timezone': 32400,\n",
      " 'visibility': 10000,\n",
      " 'weather': [{'description': '曇りがち',\n",
      "              'icon': '04d',\n",
      "              'id': 803,\n",
      "              'main': 'Clouds'}],\n",
      " 'wind': {'deg': 360, 'speed': 7.2}}\n"
     ]
    }
   ],
   "source": [
    "# 確認\n",
    "pprint(data)"
   ]
  },
  {
   "cell_type": "markdown",
   "id": "b62e8109",
   "metadata": {},
   "source": [
    "## 複数の都市を対象にデータを取得し、表形式でまとめる"
   ]
  },
  {
   "cell_type": "code",
   "execution_count": 5,
   "id": "c5c41374",
   "metadata": {},
   "outputs": [],
   "source": [
    "# 対象都市のリストを作成\n",
    "target_cities = [\"Tokyo\", \"Osaka\", \"Nagoya\", \"Sapporo\", \"Kyoto\", \"Fukuoka\", \"Yokohama\",\n",
    "                \"Sendai\", \"Chiba\", \"Maebashi\", \"Shizuoka\", \"Naha\"]\n",
    "\n",
    "#実行日の日付の文字列を取得\n",
    "today = datetime.today()\n",
    "today_formatted = today.strftime(\"%Y/%m/%d\")"
   ]
  },
  {
   "cell_type": "code",
   "execution_count": 6,
   "id": "5a91bab4",
   "metadata": {},
   "outputs": [],
   "source": [
    "# 空のリスト作成\n",
    "weather_data = []\n",
    "\n",
    "for city in target_cities:\n",
    "    # APIエンドポイントとパラメータ\n",
    "    url = f\"https://api.openweathermap.org/data/2.5/weather?q={city}&appid={api_key}&units=metric&lang=ja\"\n",
    "    \n",
    "    # APIリクエストを送信\n",
    "    response = requests.get(url)\n",
    "    \n",
    "    # JSON形式で結果を受け取る\n",
    "    data = response.json()\n",
    "    \n",
    "    # 各項目を辞書にまとめて、リストに追加していく\n",
    "    weather_data.append({\n",
    "        \"日付\" : today_formatted,\n",
    "        \"都市名\" : data[\"name\"],\n",
    "        \"天気\" : data[\"weather\"][0][\"description\"],\n",
    "        \"気温(℃)\" : data[\"main\"][\"temp\"],\n",
    "        \"湿度(%)\" : data[\"main\"][\"humidity\"],\n",
    "        \"風速(m/s)\" : data[\"wind\"][\"speed\"],\n",
    "        \"体感温度(℃)\" : data[\"main\"][\"feels_like\"],\n",
    "        \"最低気温(℃)\" : data[\"main\"][\"temp_min\"],\n",
    "        \"最高気温(℃)\" : data[\"main\"][\"temp_max\"]\n",
    "    })\n",
    "    # アクセスごとの間隔を開ける\n",
    "    time.sleep(1)"
   ]
  },
  {
   "cell_type": "code",
   "execution_count": 7,
   "id": "f7e889d3",
   "metadata": {},
   "outputs": [
    {
     "data": {
      "text/html": [
       "<div>\n",
       "<style scoped>\n",
       "    .dataframe tbody tr th:only-of-type {\n",
       "        vertical-align: middle;\n",
       "    }\n",
       "\n",
       "    .dataframe tbody tr th {\n",
       "        vertical-align: top;\n",
       "    }\n",
       "\n",
       "    .dataframe thead th {\n",
       "        text-align: right;\n",
       "    }\n",
       "</style>\n",
       "<table border=\"1\" class=\"dataframe\">\n",
       "  <thead>\n",
       "    <tr style=\"text-align: right;\">\n",
       "      <th></th>\n",
       "      <th>日付</th>\n",
       "      <th>都市名</th>\n",
       "      <th>天気</th>\n",
       "      <th>気温(℃)</th>\n",
       "      <th>湿度(%)</th>\n",
       "      <th>風速(m/s)</th>\n",
       "      <th>体感温度(℃)</th>\n",
       "      <th>最低気温(℃)</th>\n",
       "      <th>最高気温(℃)</th>\n",
       "    </tr>\n",
       "  </thead>\n",
       "  <tbody>\n",
       "    <tr>\n",
       "      <th>0</th>\n",
       "      <td>2025/05/26</td>\n",
       "      <td>東京都</td>\n",
       "      <td>曇りがち</td>\n",
       "      <td>20.00</td>\n",
       "      <td>42</td>\n",
       "      <td>7.20</td>\n",
       "      <td>19.15</td>\n",
       "      <td>19.03</td>\n",
       "      <td>20.36</td>\n",
       "    </tr>\n",
       "    <tr>\n",
       "      <th>1</th>\n",
       "      <td>2025/05/26</td>\n",
       "      <td>大阪市</td>\n",
       "      <td>曇りがち</td>\n",
       "      <td>15.67</td>\n",
       "      <td>65</td>\n",
       "      <td>2.57</td>\n",
       "      <td>14.99</td>\n",
       "      <td>14.96</td>\n",
       "      <td>16.70</td>\n",
       "    </tr>\n",
       "    <tr>\n",
       "      <th>2</th>\n",
       "      <td>2025/05/26</td>\n",
       "      <td>名古屋市</td>\n",
       "      <td>厚い雲</td>\n",
       "      <td>18.31</td>\n",
       "      <td>58</td>\n",
       "      <td>3.49</td>\n",
       "      <td>17.71</td>\n",
       "      <td>18.31</td>\n",
       "      <td>18.90</td>\n",
       "    </tr>\n",
       "    <tr>\n",
       "      <th>3</th>\n",
       "      <td>2025/05/26</td>\n",
       "      <td>札幌市</td>\n",
       "      <td>曇りがち</td>\n",
       "      <td>11.86</td>\n",
       "      <td>91</td>\n",
       "      <td>6.69</td>\n",
       "      <td>11.48</td>\n",
       "      <td>11.85</td>\n",
       "      <td>12.20</td>\n",
       "    </tr>\n",
       "    <tr>\n",
       "      <th>4</th>\n",
       "      <td>2025/05/26</td>\n",
       "      <td>京都市</td>\n",
       "      <td>厚い雲</td>\n",
       "      <td>16.15</td>\n",
       "      <td>72</td>\n",
       "      <td>2.19</td>\n",
       "      <td>15.70</td>\n",
       "      <td>16.15</td>\n",
       "      <td>16.48</td>\n",
       "    </tr>\n",
       "  </tbody>\n",
       "</table>\n",
       "</div>"
      ],
      "text/plain": [
       "           日付   都市名    天気  気温(℃)  湿度(%)  風速(m/s)  体感温度(℃)  最低気温(℃)  最高気温(℃)\n",
       "0  2025/05/26   東京都  曇りがち  20.00     42     7.20    19.15    19.03    20.36\n",
       "1  2025/05/26   大阪市  曇りがち  15.67     65     2.57    14.99    14.96    16.70\n",
       "2  2025/05/26  名古屋市   厚い雲  18.31     58     3.49    17.71    18.31    18.90\n",
       "3  2025/05/26   札幌市  曇りがち  11.86     91     6.69    11.48    11.85    12.20\n",
       "4  2025/05/26   京都市   厚い雲  16.15     72     2.19    15.70    16.15    16.48"
      ]
     },
     "execution_count": 7,
     "metadata": {},
     "output_type": "execute_result"
    }
   ],
   "source": [
    "# 辞書のリストからpandasのDataFrameを作成\n",
    "df = pd.DataFrame(weather_data)\n",
    "# 確認\n",
    "df.head()"
   ]
  },
  {
   "cell_type": "code",
   "execution_count": 8,
   "id": "fee7db14",
   "metadata": {},
   "outputs": [],
   "source": [
    "today_for_filename = today.strftime(\"%Y%m%d\")\n",
    "\n",
    "# 日付付ファイル名でcsv出力\n",
    "df.to_csv(f\"../output/weather_{today_for_filename}.csv\", index=False, encoding=\"utf-8-sig\")"
   ]
  },
  {
   "cell_type": "markdown",
   "id": "b7d92f40",
   "metadata": {},
   "source": [
    "## グラフによる可視化・画像の保存"
   ]
  },
  {
   "cell_type": "code",
   "execution_count": 9,
   "id": "4e360882",
   "metadata": {},
   "outputs": [
    {
     "data": {
      "image/png": "[encoded data removed]",
      "text/plain": [
       "<Figure size 720x432 with 1 Axes>"
      ]
     },
     "metadata": {},
     "output_type": "display_data"
    }
   ],
   "source": [
    "# グラフ描画\n",
    "fig, ax = plt.subplots(figsize=(10, 6), facecolor=\"white\")\n",
    "\n",
    "# 棒グラフの描画\n",
    "ax.bar(df[\"都市名\"], df[\"気温(℃)\"], color='skyblue')\n",
    "\n",
    "# グラフタイトル・ラベルなどの設定\n",
    "ax.set_title(f\"{today_formatted}の都市別気温\", fontsize=14)\n",
    "ax.set_xlabel(\"都市名\")\n",
    "ax.set_ylabel(\"気温(℃)\")\n",
    "ax.tick_params(axis='x', rotation=45)\n",
    "\n",
    "# y軸スケールを固定\n",
    "ax.set_ylim(0, 40)\n",
    "\n",
    "# レイアウト調整・保存・出力\n",
    "fig.tight_layout()\n",
    "plt.savefig(f\"../output/weather_{today_for_filename}.png\", dpi=300, bbox_inches=\"tight\")\n",
    "plt.show()"
   ]
  },
  {
   "cell_type": "code",
   "execution_count": null,
   "id": "1d464639",
   "metadata": {},
   "outputs": [],
   "source": []
  }
 ],
 "metadata": {
  "kernelspec": {
   "display_name": "Python 3 (ipykernel)",
   "language": "python",
   "name": "python3"
  },
  "language_info": {
   "codemirror_mode": {
    "name": "ipython",
    "version": 3
   },
   "file_extension": ".py",
   "mimetype": "text/x-python",
   "name": "python",
   "nbconvert_exporter": "python",
   "pygments_lexer": "ipython3",
   "version": "3.9.7"
  }
 },
 "nbformat": 4,
 "nbformat_minor": 5
}
